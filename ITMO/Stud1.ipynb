{
 "cells": [],
 "metadata": {
  "kernelspec": {
   "display_name": "Python 3",
   "language": "python",
   "name": "python3"
  },
  "language_info": {
   "codemirror_mode": {
    "name": "ipython",
    "version": 2
   },
   "file_extension": ".py",
   "mimetype": "text/x-python",
   "name": "python",
   "nbconvert_exporter": "python",
   "pygments_lexer": "ipython2",
   "version": "2.7.6"
  },
  "pycharm": {
   "stem_cell": {
    "cell_type": "raw",
    "source": [
     "import pandas as pd\n",
     "import numpy as np\n",
     "import pylab as pl\n",
     "import matplotlib.pyplot as plt\n",
     "import statistics\n",
     "\n",
     "\n",
     "\n",
     "\n",
     "DATA = pd.read_excel(\"stud1.xlsx\", dtype={'Step': float, 'Intensity': float})\n",
     "x = DATA[\"Step\"]\n",
     "y = DATA[\"Intensity\"]"
    ],
    "metadata": {
     "collapsed": false
    }
   }
  }
 },
 "nbformat": 4,
 "nbformat_minor": 0
}